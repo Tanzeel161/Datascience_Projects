{
 "cells": [
  {
   "cell_type": "code",
   "execution_count": 161,
   "id": "4f9e3f07",
   "metadata": {},
   "outputs": [],
   "source": [
    "import pandas as pd\n",
    "import numpy as np\n",
    "from sklearn.tree import DecisionTreeClassifier\n",
    "from sklearn.model_selection import cross_val_score, StratifiedShuffleSplit, RepeatedKFold, train_test_split\n",
    "from sklearn.metrics import accuracy_score"
   ]
  },
  {
   "cell_type": "code",
   "execution_count": 162,
   "id": "c0e70142",
   "metadata": {},
   "outputs": [
    {
     "data": {
      "text/html": [
       "<div>\n",
       "<style scoped>\n",
       "    .dataframe tbody tr th:only-of-type {\n",
       "        vertical-align: middle;\n",
       "    }\n",
       "\n",
       "    .dataframe tbody tr th {\n",
       "        vertical-align: top;\n",
       "    }\n",
       "\n",
       "    .dataframe thead th {\n",
       "        text-align: right;\n",
       "    }\n",
       "</style>\n",
       "<table border=\"1\" class=\"dataframe\">\n",
       "  <thead>\n",
       "    <tr style=\"text-align: right;\">\n",
       "      <th></th>\n",
       "      <th>Age</th>\n",
       "      <th>workclass</th>\n",
       "      <th>fnlwgt</th>\n",
       "      <th>education</th>\n",
       "      <th>education-num</th>\n",
       "      <th>marital-status</th>\n",
       "      <th>occupation</th>\n",
       "      <th>relationship</th>\n",
       "      <th>race</th>\n",
       "      <th>sex</th>\n",
       "      <th>capital-gain</th>\n",
       "      <th>capital-loss</th>\n",
       "      <th>hours-per-week</th>\n",
       "      <th>native-country</th>\n",
       "      <th></th>\n",
       "    </tr>\n",
       "  </thead>\n",
       "  <tbody>\n",
       "    <tr>\n",
       "      <th>0</th>\n",
       "      <td>39</td>\n",
       "      <td>State-gov</td>\n",
       "      <td>77516</td>\n",
       "      <td>Bachelors</td>\n",
       "      <td>13</td>\n",
       "      <td>Never-married</td>\n",
       "      <td>Adm-clerical</td>\n",
       "      <td>Not-in-family</td>\n",
       "      <td>White</td>\n",
       "      <td>Male</td>\n",
       "      <td>2174</td>\n",
       "      <td>0</td>\n",
       "      <td>40</td>\n",
       "      <td>United-States</td>\n",
       "      <td>&lt;=50K</td>\n",
       "    </tr>\n",
       "    <tr>\n",
       "      <th>1</th>\n",
       "      <td>50</td>\n",
       "      <td>Self-emp-not-inc</td>\n",
       "      <td>83311</td>\n",
       "      <td>Bachelors</td>\n",
       "      <td>13</td>\n",
       "      <td>Married-civ-spouse</td>\n",
       "      <td>Exec-managerial</td>\n",
       "      <td>Husband</td>\n",
       "      <td>White</td>\n",
       "      <td>Male</td>\n",
       "      <td>0</td>\n",
       "      <td>0</td>\n",
       "      <td>13</td>\n",
       "      <td>United-States</td>\n",
       "      <td>&lt;=50K</td>\n",
       "    </tr>\n",
       "    <tr>\n",
       "      <th>2</th>\n",
       "      <td>38</td>\n",
       "      <td>Private</td>\n",
       "      <td>215646</td>\n",
       "      <td>HS-grad</td>\n",
       "      <td>9</td>\n",
       "      <td>Divorced</td>\n",
       "      <td>Handlers-cleaners</td>\n",
       "      <td>Not-in-family</td>\n",
       "      <td>White</td>\n",
       "      <td>Male</td>\n",
       "      <td>0</td>\n",
       "      <td>0</td>\n",
       "      <td>40</td>\n",
       "      <td>United-States</td>\n",
       "      <td>&lt;=50K</td>\n",
       "    </tr>\n",
       "    <tr>\n",
       "      <th>3</th>\n",
       "      <td>53</td>\n",
       "      <td>Private</td>\n",
       "      <td>234721</td>\n",
       "      <td>11th</td>\n",
       "      <td>7</td>\n",
       "      <td>Married-civ-spouse</td>\n",
       "      <td>Handlers-cleaners</td>\n",
       "      <td>Husband</td>\n",
       "      <td>Black</td>\n",
       "      <td>Male</td>\n",
       "      <td>0</td>\n",
       "      <td>0</td>\n",
       "      <td>40</td>\n",
       "      <td>United-States</td>\n",
       "      <td>&lt;=50K</td>\n",
       "    </tr>\n",
       "    <tr>\n",
       "      <th>4</th>\n",
       "      <td>28</td>\n",
       "      <td>Private</td>\n",
       "      <td>338409</td>\n",
       "      <td>Bachelors</td>\n",
       "      <td>13</td>\n",
       "      <td>Married-civ-spouse</td>\n",
       "      <td>Prof-specialty</td>\n",
       "      <td>Wife</td>\n",
       "      <td>Black</td>\n",
       "      <td>Female</td>\n",
       "      <td>0</td>\n",
       "      <td>0</td>\n",
       "      <td>40</td>\n",
       "      <td>Cuba</td>\n",
       "      <td>&lt;=50K</td>\n",
       "    </tr>\n",
       "    <tr>\n",
       "      <th>...</th>\n",
       "      <td>...</td>\n",
       "      <td>...</td>\n",
       "      <td>...</td>\n",
       "      <td>...</td>\n",
       "      <td>...</td>\n",
       "      <td>...</td>\n",
       "      <td>...</td>\n",
       "      <td>...</td>\n",
       "      <td>...</td>\n",
       "      <td>...</td>\n",
       "      <td>...</td>\n",
       "      <td>...</td>\n",
       "      <td>...</td>\n",
       "      <td>...</td>\n",
       "      <td>...</td>\n",
       "    </tr>\n",
       "    <tr>\n",
       "      <th>32556</th>\n",
       "      <td>27</td>\n",
       "      <td>Private</td>\n",
       "      <td>257302</td>\n",
       "      <td>Assoc-acdm</td>\n",
       "      <td>12</td>\n",
       "      <td>Married-civ-spouse</td>\n",
       "      <td>Tech-support</td>\n",
       "      <td>Wife</td>\n",
       "      <td>White</td>\n",
       "      <td>Female</td>\n",
       "      <td>0</td>\n",
       "      <td>0</td>\n",
       "      <td>38</td>\n",
       "      <td>United-States</td>\n",
       "      <td>&lt;=50K</td>\n",
       "    </tr>\n",
       "    <tr>\n",
       "      <th>32557</th>\n",
       "      <td>40</td>\n",
       "      <td>Private</td>\n",
       "      <td>154374</td>\n",
       "      <td>HS-grad</td>\n",
       "      <td>9</td>\n",
       "      <td>Married-civ-spouse</td>\n",
       "      <td>Machine-op-inspct</td>\n",
       "      <td>Husband</td>\n",
       "      <td>White</td>\n",
       "      <td>Male</td>\n",
       "      <td>0</td>\n",
       "      <td>0</td>\n",
       "      <td>40</td>\n",
       "      <td>United-States</td>\n",
       "      <td>&gt;50K</td>\n",
       "    </tr>\n",
       "    <tr>\n",
       "      <th>32558</th>\n",
       "      <td>58</td>\n",
       "      <td>Private</td>\n",
       "      <td>151910</td>\n",
       "      <td>HS-grad</td>\n",
       "      <td>9</td>\n",
       "      <td>Widowed</td>\n",
       "      <td>Adm-clerical</td>\n",
       "      <td>Unmarried</td>\n",
       "      <td>White</td>\n",
       "      <td>Female</td>\n",
       "      <td>0</td>\n",
       "      <td>0</td>\n",
       "      <td>40</td>\n",
       "      <td>United-States</td>\n",
       "      <td>&lt;=50K</td>\n",
       "    </tr>\n",
       "    <tr>\n",
       "      <th>32559</th>\n",
       "      <td>22</td>\n",
       "      <td>Private</td>\n",
       "      <td>201490</td>\n",
       "      <td>HS-grad</td>\n",
       "      <td>9</td>\n",
       "      <td>Never-married</td>\n",
       "      <td>Adm-clerical</td>\n",
       "      <td>Own-child</td>\n",
       "      <td>White</td>\n",
       "      <td>Male</td>\n",
       "      <td>0</td>\n",
       "      <td>0</td>\n",
       "      <td>20</td>\n",
       "      <td>United-States</td>\n",
       "      <td>&lt;=50K</td>\n",
       "    </tr>\n",
       "    <tr>\n",
       "      <th>32560</th>\n",
       "      <td>52</td>\n",
       "      <td>Self-emp-inc</td>\n",
       "      <td>287927</td>\n",
       "      <td>HS-grad</td>\n",
       "      <td>9</td>\n",
       "      <td>Married-civ-spouse</td>\n",
       "      <td>Exec-managerial</td>\n",
       "      <td>Wife</td>\n",
       "      <td>White</td>\n",
       "      <td>Female</td>\n",
       "      <td>15024</td>\n",
       "      <td>0</td>\n",
       "      <td>40</td>\n",
       "      <td>United-States</td>\n",
       "      <td>&gt;50K</td>\n",
       "    </tr>\n",
       "  </tbody>\n",
       "</table>\n",
       "<p>32561 rows × 15 columns</p>\n",
       "</div>"
      ],
      "text/plain": [
       "       Age          workclass  fnlwgt    education  education-num  \\\n",
       "0       39          State-gov   77516    Bachelors             13   \n",
       "1       50   Self-emp-not-inc   83311    Bachelors             13   \n",
       "2       38            Private  215646      HS-grad              9   \n",
       "3       53            Private  234721         11th              7   \n",
       "4       28            Private  338409    Bachelors             13   \n",
       "...    ...                ...     ...          ...            ...   \n",
       "32556   27            Private  257302   Assoc-acdm             12   \n",
       "32557   40            Private  154374      HS-grad              9   \n",
       "32558   58            Private  151910      HS-grad              9   \n",
       "32559   22            Private  201490      HS-grad              9   \n",
       "32560   52       Self-emp-inc  287927      HS-grad              9   \n",
       "\n",
       "            marital-status          occupation    relationship    race  \\\n",
       "0            Never-married        Adm-clerical   Not-in-family   White   \n",
       "1       Married-civ-spouse     Exec-managerial         Husband   White   \n",
       "2                 Divorced   Handlers-cleaners   Not-in-family   White   \n",
       "3       Married-civ-spouse   Handlers-cleaners         Husband   Black   \n",
       "4       Married-civ-spouse      Prof-specialty            Wife   Black   \n",
       "...                    ...                 ...             ...     ...   \n",
       "32556   Married-civ-spouse        Tech-support            Wife   White   \n",
       "32557   Married-civ-spouse   Machine-op-inspct         Husband   White   \n",
       "32558              Widowed        Adm-clerical       Unmarried   White   \n",
       "32559        Never-married        Adm-clerical       Own-child   White   \n",
       "32560   Married-civ-spouse     Exec-managerial            Wife   White   \n",
       "\n",
       "           sex  capital-gain  capital-loss  hours-per-week  native-country  \\\n",
       "0         Male          2174             0              40   United-States   \n",
       "1         Male             0             0              13   United-States   \n",
       "2         Male             0             0              40   United-States   \n",
       "3         Male             0             0              40   United-States   \n",
       "4       Female             0             0              40            Cuba   \n",
       "...        ...           ...           ...             ...             ...   \n",
       "32556   Female             0             0              38   United-States   \n",
       "32557     Male             0             0              40   United-States   \n",
       "32558   Female             0             0              40   United-States   \n",
       "32559     Male             0             0              20   United-States   \n",
       "32560   Female         15024             0              40   United-States   \n",
       "\n",
       "               \n",
       "0       <=50K  \n",
       "1       <=50K  \n",
       "2       <=50K  \n",
       "3       <=50K  \n",
       "4       <=50K  \n",
       "...       ...  \n",
       "32556   <=50K  \n",
       "32557    >50K  \n",
       "32558   <=50K  \n",
       "32559   <=50K  \n",
       "32560    >50K  \n",
       "\n",
       "[32561 rows x 15 columns]"
      ]
     },
     "execution_count": 162,
     "metadata": {},
     "output_type": "execute_result"
    }
   ],
   "source": [
    "names1 = [\"Age\",\"workclass\",\"fnlwgt\",\"education\",\"education-num\", \"marital-status\",\"occupation\", \"relationship\", \"race\", \"sex\",\"capital-gain\",\"capital-loss\",\"hours-per-week\",\"native-country\",\"\"]\n",
    "dataset1 = pd.read_csv(r\"adult.data\", names=names1)\n",
    "dataset1.reset_index(drop=True,inplace=True)\n",
    "dataset1['sex'].replace({'M':1, 'F':0,'I':0 }, inplace=True)\n",
    "X = dataset1.values[0:,0:13]\n",
    "Y = dataset1.values[:,13]\n",
    "dataset1"
   ]
  },
  {
   "cell_type": "markdown",
   "id": "aafa1e72",
   "metadata": {},
   "source": [
    "### "
   ]
  },
  {
   "cell_type": "code",
   "execution_count": 163,
   "id": "31806b52",
   "metadata": {},
   "outputs": [
    {
     "data": {
      "text/html": [
       "<div>\n",
       "<style scoped>\n",
       "    .dataframe tbody tr th:only-of-type {\n",
       "        vertical-align: middle;\n",
       "    }\n",
       "\n",
       "    .dataframe tbody tr th {\n",
       "        vertical-align: top;\n",
       "    }\n",
       "\n",
       "    .dataframe thead th {\n",
       "        text-align: right;\n",
       "    }\n",
       "</style>\n",
       "<table border=\"1\" class=\"dataframe\">\n",
       "  <thead>\n",
       "    <tr style=\"text-align: right;\">\n",
       "      <th></th>\n",
       "      <th>Age</th>\n",
       "      <th>fnlwgt</th>\n",
       "      <th>education-num</th>\n",
       "      <th>capital-gain</th>\n",
       "      <th>capital-loss</th>\n",
       "      <th>hours-per-week</th>\n",
       "    </tr>\n",
       "  </thead>\n",
       "  <tbody>\n",
       "    <tr>\n",
       "      <th>0</th>\n",
       "      <td>39</td>\n",
       "      <td>77516</td>\n",
       "      <td>13</td>\n",
       "      <td>2174</td>\n",
       "      <td>0</td>\n",
       "      <td>40</td>\n",
       "    </tr>\n",
       "    <tr>\n",
       "      <th>1</th>\n",
       "      <td>50</td>\n",
       "      <td>83311</td>\n",
       "      <td>13</td>\n",
       "      <td>0</td>\n",
       "      <td>0</td>\n",
       "      <td>13</td>\n",
       "    </tr>\n",
       "    <tr>\n",
       "      <th>2</th>\n",
       "      <td>38</td>\n",
       "      <td>215646</td>\n",
       "      <td>9</td>\n",
       "      <td>0</td>\n",
       "      <td>0</td>\n",
       "      <td>40</td>\n",
       "    </tr>\n",
       "    <tr>\n",
       "      <th>3</th>\n",
       "      <td>53</td>\n",
       "      <td>234721</td>\n",
       "      <td>7</td>\n",
       "      <td>0</td>\n",
       "      <td>0</td>\n",
       "      <td>40</td>\n",
       "    </tr>\n",
       "    <tr>\n",
       "      <th>4</th>\n",
       "      <td>28</td>\n",
       "      <td>338409</td>\n",
       "      <td>13</td>\n",
       "      <td>0</td>\n",
       "      <td>0</td>\n",
       "      <td>40</td>\n",
       "    </tr>\n",
       "    <tr>\n",
       "      <th>...</th>\n",
       "      <td>...</td>\n",
       "      <td>...</td>\n",
       "      <td>...</td>\n",
       "      <td>...</td>\n",
       "      <td>...</td>\n",
       "      <td>...</td>\n",
       "    </tr>\n",
       "    <tr>\n",
       "      <th>32556</th>\n",
       "      <td>27</td>\n",
       "      <td>257302</td>\n",
       "      <td>12</td>\n",
       "      <td>0</td>\n",
       "      <td>0</td>\n",
       "      <td>38</td>\n",
       "    </tr>\n",
       "    <tr>\n",
       "      <th>32557</th>\n",
       "      <td>40</td>\n",
       "      <td>154374</td>\n",
       "      <td>9</td>\n",
       "      <td>0</td>\n",
       "      <td>0</td>\n",
       "      <td>40</td>\n",
       "    </tr>\n",
       "    <tr>\n",
       "      <th>32558</th>\n",
       "      <td>58</td>\n",
       "      <td>151910</td>\n",
       "      <td>9</td>\n",
       "      <td>0</td>\n",
       "      <td>0</td>\n",
       "      <td>40</td>\n",
       "    </tr>\n",
       "    <tr>\n",
       "      <th>32559</th>\n",
       "      <td>22</td>\n",
       "      <td>201490</td>\n",
       "      <td>9</td>\n",
       "      <td>0</td>\n",
       "      <td>0</td>\n",
       "      <td>20</td>\n",
       "    </tr>\n",
       "    <tr>\n",
       "      <th>32560</th>\n",
       "      <td>52</td>\n",
       "      <td>287927</td>\n",
       "      <td>9</td>\n",
       "      <td>15024</td>\n",
       "      <td>0</td>\n",
       "      <td>40</td>\n",
       "    </tr>\n",
       "  </tbody>\n",
       "</table>\n",
       "<p>32561 rows × 6 columns</p>\n",
       "</div>"
      ],
      "text/plain": [
       "       Age  fnlwgt  education-num  capital-gain  capital-loss  hours-per-week\n",
       "0       39   77516             13          2174             0              40\n",
       "1       50   83311             13             0             0              13\n",
       "2       38  215646              9             0             0              40\n",
       "3       53  234721              7             0             0              40\n",
       "4       28  338409             13             0             0              40\n",
       "...    ...     ...            ...           ...           ...             ...\n",
       "32556   27  257302             12             0             0              38\n",
       "32557   40  154374              9             0             0              40\n",
       "32558   58  151910              9             0             0              40\n",
       "32559   22  201490              9             0             0              20\n",
       "32560   52  287927              9         15024             0              40\n",
       "\n",
       "[32561 rows x 6 columns]"
      ]
     },
     "execution_count": 163,
     "metadata": {},
     "output_type": "execute_result"
    }
   ],
   "source": [
    "result = dataset1.select_dtypes(include='number')\n",
    "X1 = result.values[0:,0:5]\n",
    "Y1 = result.values[:,5]\n",
    "result"
   ]
  },
  {
   "cell_type": "code",
   "execution_count": 164,
   "id": "bf702c22",
   "metadata": {},
   "outputs": [
    {
     "name": "stdout",
     "output_type": "stream",
     "text": [
      "Dataset 1 Gini without pruning & Repeated 10 X 10 folds:\n",
      "Accuracy:  25.386803060352342\n",
      "Standard Deviation:  0.008118381610183472\n"
     ]
    }
   ],
   "source": [
    "Gini = DecisionTreeClassifier(criterion='gini')\n",
    "CV = RepeatedKFold(n_splits = 10, n_repeats = 10, random_state = 1)\n",
    "Acc_n_Std = cross_val_score(Gini, X1, Y1, scoring='accuracy', cv=CV, n_jobs = -1)\n",
    "print(\"Dataset 1 Gini without pruning & Repeated 10 X 10 folds:\")\n",
    "print('Accuracy: ',100*np.mean(Acc_n_Std))\n",
    "print('Standard Deviation: ',np.std(Acc_n_Std))"
   ]
  },
  {
   "cell_type": "code",
   "execution_count": 165,
   "id": "76891a3a",
   "metadata": {},
   "outputs": [
    {
     "name": "stdout",
     "output_type": "stream",
     "text": [
      "Dataset 1 Gini with pruning & Repeated 10 x 10 folds:\n",
      "Accuracy:  46.73381580704271\n",
      "Standard Deviation:  0.009252818665462475\n"
     ]
    }
   ],
   "source": [
    "Gini = DecisionTreeClassifier(criterion='gini', ccp_alpha = 0.015)\n",
    "CV = RepeatedKFold(n_splits = 10, n_repeats = 10, random_state = 1)\n",
    "Acc_n_Std = cross_val_score(Gini, X1, Y1, scoring='accuracy', cv=CV, n_jobs = -1)\n",
    "print('Dataset 1 Gini with pruning & Repeated 10 x 10 folds:')\n",
    "print('Accuracy: ',100*np.mean(Acc_n_Std))\n",
    "print('Standard Deviation: ',np.std(Acc_n_Std))"
   ]
  },
  {
   "cell_type": "code",
   "execution_count": 166,
   "id": "51fba75a",
   "metadata": {},
   "outputs": [
    {
     "name": "stdout",
     "output_type": "stream",
     "text": [
      "Dataset 1 Gini without pruning & Holdout Approach\n",
      "Accuracy :  24.966731497594434\n"
     ]
    }
   ],
   "source": [
    "Gini = DecisionTreeClassifier(criterion='gini')\n",
    "X_train, X_test, Y_train, Y_test = train_test_split(X1, Y1, test_size=0.3, random_state=5)\n",
    "Gini.fit(X_train, Y_train)\n",
    "predictions = Gini.predict(X_test)\n",
    "print('Dataset 1 Gini without pruning & Holdout Approach')\n",
    "print (\"Accuracy : \",accuracy_score(Y_test,predictions)*100)"
   ]
  },
  {
   "cell_type": "code",
   "execution_count": 167,
   "id": "27c062b2",
   "metadata": {},
   "outputs": [
    {
     "name": "stdout",
     "output_type": "stream",
     "text": [
      "Dataset 1 Gini with pruning & Repeated 10 X 10 folds:\n",
      "Accuracy :  46.862524311597916\n"
     ]
    }
   ],
   "source": [
    "Gini = DecisionTreeClassifier(criterion='gini', ccp_alpha = 0.015)\n",
    "X_train, X_test, Y_train, Y_test = train_test_split(X1, Y1, test_size=0.3, random_state=5)\n",
    "Gini.fit(X_train, Y_train)\n",
    "predictions = Gini.predict(X_test)\n",
    "print(\"Dataset 1 Gini with pruning & Repeated 10 X 10 folds:\")\n",
    "print (\"Accuracy : \",accuracy_score(Y_test,predictions)*100)"
   ]
  },
  {
   "cell_type": "code",
   "execution_count": 168,
   "id": "db36fa00",
   "metadata": {},
   "outputs": [
    {
     "name": "stdout",
     "output_type": "stream",
     "text": [
      "Dataset 1 Entropy without pruning & Repeated 10 X 10 folds\n",
      "Accuracy:  25.702225559916688\n",
      "Standard Deviation:  0.007943086455284845\n"
     ]
    }
   ],
   "source": [
    "Entropy = DecisionTreeClassifier(criterion='entropy')\n",
    "CV = RepeatedKFold(n_splits = 10, n_repeats = 10, random_state = 1)\n",
    "Acc_n_Std = cross_val_score(Entropy, X1, Y1, scoring='accuracy', cv=CV, n_jobs = -1)\n",
    "print('Dataset 1 Entropy without pruning & Repeated 10 X 10 folds')\n",
    "print('Accuracy: ',100*np.mean(Acc_n_Std))\n",
    "print('Standard Deviation: ',np.std(Acc_n_Std))"
   ]
  },
  {
   "cell_type": "code",
   "execution_count": 169,
   "id": "83474dcf",
   "metadata": {},
   "outputs": [
    {
     "name": "stdout",
     "output_type": "stream",
     "text": [
      "Dataset 1 Entropy with pruning & Repeated 10 X 10 folds\n",
      "Accuracy:  46.73381580704271\n",
      "Standard Deviation:  0.009252818665462475\n"
     ]
    }
   ],
   "source": [
    "Entropy = DecisionTreeClassifier(criterion='entropy', ccp_alpha = 0.015)\n",
    "CV = RepeatedKFold(n_splits = 10, n_repeats = 10, random_state = 1)\n",
    "Acc_n_Std = cross_val_score(Entropy, X1, Y1, scoring='accuracy', cv=CV, n_jobs = -1)\n",
    "print('Dataset 1 Entropy with pruning & Repeated 10 X 10 folds')\n",
    "print('Accuracy: ',100*np.mean(Acc_n_Std))\n",
    "print('Standard Deviation: ',np.std(Acc_n_Std))"
   ]
  },
  {
   "cell_type": "code",
   "execution_count": 170,
   "id": "2b379d73",
   "metadata": {},
   "outputs": [
    {
     "name": "stdout",
     "output_type": "stream",
     "text": [
      "Dataset 1 Entropy without pruning & Holdout Approach\n",
      "Accuracy :  46.862524311597916\n"
     ]
    }
   ],
   "source": [
    "Entropy = DecisionTreeClassifier(criterion='entropy')\n",
    "X_train, X_test, Y_train, Y_test = train_test_split(X1, Y1, test_size=0.3, random_state=5)\n",
    "Entropy.fit(X_train, Y_train)\n",
    "predictions = Gini.predict(X_test)\n",
    "print('Dataset 1 Entropy without pruning & Holdout Approach')\n",
    "print (\"Accuracy : \",accuracy_score(Y_test,predictions)*100)"
   ]
  },
  {
   "cell_type": "code",
   "execution_count": 171,
   "id": "1c94aea7",
   "metadata": {},
   "outputs": [
    {
     "name": "stdout",
     "output_type": "stream",
     "text": [
      "Dataset 1 Entropy with pruning & Holdout Approach\n",
      "Accuracy :  46.862524311597916\n"
     ]
    }
   ],
   "source": [
    "Entropy = DecisionTreeClassifier(criterion='entropy', ccp_alpha = 0.015)\n",
    "X_train, X_test, Y_train, Y_test = train_test_split(X1, Y1, test_size=0.3, random_state=5)\n",
    "Entropy.fit(X_train, Y_train)\n",
    "print('Dataset 1 Entropy with pruning & Holdout Approach')\n",
    "predictions = Gini.predict(X_test)\n",
    "print (\"Accuracy : \",accuracy_score(Y_test,predictions)*100)"
   ]
  },
  {
   "cell_type": "code",
   "execution_count": 172,
   "id": "b7465dd0",
   "metadata": {},
   "outputs": [
    {
     "data": {
      "text/html": [
       "<div>\n",
       "<style scoped>\n",
       "    .dataframe tbody tr th:only-of-type {\n",
       "        vertical-align: middle;\n",
       "    }\n",
       "\n",
       "    .dataframe tbody tr th {\n",
       "        vertical-align: top;\n",
       "    }\n",
       "\n",
       "    .dataframe thead th {\n",
       "        text-align: right;\n",
       "    }\n",
       "</style>\n",
       "<table border=\"1\" class=\"dataframe\">\n",
       "  <thead>\n",
       "    <tr style=\"text-align: right;\">\n",
       "      <th></th>\n",
       "      <th>Sex</th>\n",
       "      <th>Length</th>\n",
       "      <th>Diameter</th>\n",
       "      <th>Height</th>\n",
       "      <th>Whole_weight</th>\n",
       "      <th>Shucked_weight</th>\n",
       "      <th>Viscera_weight</th>\n",
       "      <th>Shell_weight</th>\n",
       "      <th>Rings</th>\n",
       "    </tr>\n",
       "  </thead>\n",
       "  <tbody>\n",
       "    <tr>\n",
       "      <th>0</th>\n",
       "      <td>1</td>\n",
       "      <td>0.455</td>\n",
       "      <td>0.365</td>\n",
       "      <td>0.095</td>\n",
       "      <td>0.5140</td>\n",
       "      <td>0.2245</td>\n",
       "      <td>0.1010</td>\n",
       "      <td>0.1500</td>\n",
       "      <td>15</td>\n",
       "    </tr>\n",
       "    <tr>\n",
       "      <th>1</th>\n",
       "      <td>1</td>\n",
       "      <td>0.350</td>\n",
       "      <td>0.265</td>\n",
       "      <td>0.090</td>\n",
       "      <td>0.2255</td>\n",
       "      <td>0.0995</td>\n",
       "      <td>0.0485</td>\n",
       "      <td>0.0700</td>\n",
       "      <td>7</td>\n",
       "    </tr>\n",
       "    <tr>\n",
       "      <th>2</th>\n",
       "      <td>0</td>\n",
       "      <td>0.530</td>\n",
       "      <td>0.420</td>\n",
       "      <td>0.135</td>\n",
       "      <td>0.6770</td>\n",
       "      <td>0.2565</td>\n",
       "      <td>0.1415</td>\n",
       "      <td>0.2100</td>\n",
       "      <td>9</td>\n",
       "    </tr>\n",
       "    <tr>\n",
       "      <th>3</th>\n",
       "      <td>1</td>\n",
       "      <td>0.440</td>\n",
       "      <td>0.365</td>\n",
       "      <td>0.125</td>\n",
       "      <td>0.5160</td>\n",
       "      <td>0.2155</td>\n",
       "      <td>0.1140</td>\n",
       "      <td>0.1550</td>\n",
       "      <td>10</td>\n",
       "    </tr>\n",
       "    <tr>\n",
       "      <th>4</th>\n",
       "      <td>0</td>\n",
       "      <td>0.330</td>\n",
       "      <td>0.255</td>\n",
       "      <td>0.080</td>\n",
       "      <td>0.2050</td>\n",
       "      <td>0.0895</td>\n",
       "      <td>0.0395</td>\n",
       "      <td>0.0550</td>\n",
       "      <td>7</td>\n",
       "    </tr>\n",
       "    <tr>\n",
       "      <th>...</th>\n",
       "      <td>...</td>\n",
       "      <td>...</td>\n",
       "      <td>...</td>\n",
       "      <td>...</td>\n",
       "      <td>...</td>\n",
       "      <td>...</td>\n",
       "      <td>...</td>\n",
       "      <td>...</td>\n",
       "      <td>...</td>\n",
       "    </tr>\n",
       "    <tr>\n",
       "      <th>4172</th>\n",
       "      <td>0</td>\n",
       "      <td>0.565</td>\n",
       "      <td>0.450</td>\n",
       "      <td>0.165</td>\n",
       "      <td>0.8870</td>\n",
       "      <td>0.3700</td>\n",
       "      <td>0.2390</td>\n",
       "      <td>0.2490</td>\n",
       "      <td>11</td>\n",
       "    </tr>\n",
       "    <tr>\n",
       "      <th>4173</th>\n",
       "      <td>1</td>\n",
       "      <td>0.590</td>\n",
       "      <td>0.440</td>\n",
       "      <td>0.135</td>\n",
       "      <td>0.9660</td>\n",
       "      <td>0.4390</td>\n",
       "      <td>0.2145</td>\n",
       "      <td>0.2605</td>\n",
       "      <td>10</td>\n",
       "    </tr>\n",
       "    <tr>\n",
       "      <th>4174</th>\n",
       "      <td>1</td>\n",
       "      <td>0.600</td>\n",
       "      <td>0.475</td>\n",
       "      <td>0.205</td>\n",
       "      <td>1.1760</td>\n",
       "      <td>0.5255</td>\n",
       "      <td>0.2875</td>\n",
       "      <td>0.3080</td>\n",
       "      <td>9</td>\n",
       "    </tr>\n",
       "    <tr>\n",
       "      <th>4175</th>\n",
       "      <td>0</td>\n",
       "      <td>0.625</td>\n",
       "      <td>0.485</td>\n",
       "      <td>0.150</td>\n",
       "      <td>1.0945</td>\n",
       "      <td>0.5310</td>\n",
       "      <td>0.2610</td>\n",
       "      <td>0.2960</td>\n",
       "      <td>10</td>\n",
       "    </tr>\n",
       "    <tr>\n",
       "      <th>4176</th>\n",
       "      <td>1</td>\n",
       "      <td>0.710</td>\n",
       "      <td>0.555</td>\n",
       "      <td>0.195</td>\n",
       "      <td>1.9485</td>\n",
       "      <td>0.9455</td>\n",
       "      <td>0.3765</td>\n",
       "      <td>0.4950</td>\n",
       "      <td>12</td>\n",
       "    </tr>\n",
       "  </tbody>\n",
       "</table>\n",
       "<p>4177 rows × 9 columns</p>\n",
       "</div>"
      ],
      "text/plain": [
       "      Sex  Length  Diameter  Height  Whole_weight  Shucked_weight  \\\n",
       "0       1   0.455     0.365   0.095        0.5140          0.2245   \n",
       "1       1   0.350     0.265   0.090        0.2255          0.0995   \n",
       "2       0   0.530     0.420   0.135        0.6770          0.2565   \n",
       "3       1   0.440     0.365   0.125        0.5160          0.2155   \n",
       "4       0   0.330     0.255   0.080        0.2050          0.0895   \n",
       "...   ...     ...       ...     ...           ...             ...   \n",
       "4172    0   0.565     0.450   0.165        0.8870          0.3700   \n",
       "4173    1   0.590     0.440   0.135        0.9660          0.4390   \n",
       "4174    1   0.600     0.475   0.205        1.1760          0.5255   \n",
       "4175    0   0.625     0.485   0.150        1.0945          0.5310   \n",
       "4176    1   0.710     0.555   0.195        1.9485          0.9455   \n",
       "\n",
       "      Viscera_weight  Shell_weight  Rings  \n",
       "0             0.1010        0.1500     15  \n",
       "1             0.0485        0.0700      7  \n",
       "2             0.1415        0.2100      9  \n",
       "3             0.1140        0.1550     10  \n",
       "4             0.0395        0.0550      7  \n",
       "...              ...           ...    ...  \n",
       "4172          0.2390        0.2490     11  \n",
       "4173          0.2145        0.2605     10  \n",
       "4174          0.2875        0.3080      9  \n",
       "4175          0.2610        0.2960     10  \n",
       "4176          0.3765        0.4950     12  \n",
       "\n",
       "[4177 rows x 9 columns]"
      ]
     },
     "execution_count": 172,
     "metadata": {},
     "output_type": "execute_result"
    }
   ],
   "source": [
    "names = [\"Sex\", \"Length\", \"Diameter\", \"Height\", \"Whole_weight\", \"Shucked_weight\", \"Viscera_weight\", \"Shell_weight\", \"Rings\"]\n",
    "dataset = pd.read_csv(r\"abalone.data\", names=names)\n",
    "dataset['Sex'].replace({'M':1, 'F':0, 'I':0}, inplace=True)\n",
    "X = dataset.values[:,0:8]\n",
    "Y = dataset.values[:,8]\n",
    "dataset"
   ]
  },
  {
   "cell_type": "code",
   "execution_count": 173,
   "id": "bf08e0b2",
   "metadata": {},
   "outputs": [
    {
     "name": "stdout",
     "output_type": "stream",
     "text": [
      "Dataset 2 Gini without pruning & Repeated 10 X 10 folds:\n",
      "Accuracy:  19.66755590742716\n",
      "Standard Deviation:  0.01975596333293374\n"
     ]
    }
   ],
   "source": [
    "Gini = DecisionTreeClassifier(criterion='gini')\n",
    "CV = RepeatedKFold(n_splits = 10, n_repeats = 10, random_state = 1)\n",
    "Acc_n_Std = cross_val_score(Gini, X, Y, scoring='accuracy', cv=CV, n_jobs = -1)\n",
    "print(\"Dataset 2 Gini without pruning & Repeated 10 X 10 folds:\")\n",
    "print('Accuracy: ',100*np.mean(Acc_n_Std))\n",
    "print('Standard Deviation: ',np.std(Acc_n_Std))"
   ]
  },
  {
   "cell_type": "code",
   "execution_count": 174,
   "id": "e948f689",
   "metadata": {},
   "outputs": [
    {
     "name": "stdout",
     "output_type": "stream",
     "text": [
      "Dataset 2 Gini with pruning & Repeated 10 X 10 folds:\n",
      "Accuracy:  20.46697187704382\n",
      "Standard Deviation:  0.01648496720200174\n"
     ]
    }
   ],
   "source": [
    "Gini = DecisionTreeClassifier(criterion='gini', ccp_alpha = 0.015)\n",
    "CV = RepeatedKFold(n_splits = 10, n_repeats = 10, random_state = 1)\n",
    "Acc_n_Std = cross_val_score(Gini, X, Y, scoring='accuracy', cv=CV, n_jobs = -1)\n",
    "print(\"Dataset 2 Gini with pruning & Repeated 10 X 10 folds:\")\n",
    "print('Accuracy: ',100*np.mean(Acc_n_Std))\n",
    "print('Standard Deviation: ',np.std(Acc_n_Std))"
   ]
  },
  {
   "cell_type": "code",
   "execution_count": 175,
   "id": "7bacaf8e",
   "metadata": {},
   "outputs": [
    {
     "name": "stdout",
     "output_type": "stream",
     "text": [
      "Dataset 2 Gini without pruning & Holdout Approach\n",
      "Accuracy :  18.740031897926634\n"
     ]
    }
   ],
   "source": [
    "Gini = DecisionTreeClassifier(criterion='gini')\n",
    "X_train, X_test, Y_train, Y_test = train_test_split(X, Y, test_size=0.3, random_state=5)\n",
    "Gini.fit(X_train, Y_train)\n",
    "predictions = Gini.predict(X_test)\n",
    "print('Dataset 2 Gini without pruning & Holdout Approach')\n",
    "print (\"Accuracy : \",accuracy_score(Y_test,predictions)*100)"
   ]
  },
  {
   "cell_type": "code",
   "execution_count": 176,
   "id": "5bb883e5",
   "metadata": {},
   "outputs": [
    {
     "name": "stdout",
     "output_type": "stream",
     "text": [
      "Dataset 2 Gini with pruning & Holdout Approach\n",
      "Accuracy :  20.73365231259968\n"
     ]
    }
   ],
   "source": [
    "Gini = DecisionTreeClassifier(criterion='gini', ccp_alpha = 0.015)\n",
    "X_train, X_test, Y_train, Y_test = train_test_split(X, Y, test_size=0.3, random_state=5)\n",
    "Gini.fit(X_train, Y_train)\n",
    "predictions = Gini.predict(X_test)\n",
    "print('Dataset 2 Gini with pruning & Holdout Approach')\n",
    "print (\"Accuracy : \",accuracy_score(Y_test,predictions)*100)"
   ]
  },
  {
   "cell_type": "code",
   "execution_count": 177,
   "id": "5f755846",
   "metadata": {},
   "outputs": [
    {
     "name": "stdout",
     "output_type": "stream",
     "text": [
      "Dataset 2 Entropy without pruning & Repeated 10 X 10 folds\n",
      "Accuracy:  19.825376062786134\n",
      "Standard Deviation:  0.01909953643048287\n"
     ]
    }
   ],
   "source": [
    "Entropy = DecisionTreeClassifier(criterion='entropy')\n",
    "CV = RepeatedKFold(n_splits = 10, n_repeats = 10, random_state = 1)\n",
    "Acc_n_Std = cross_val_score(Entropy, X, Y, scoring='accuracy', cv=CV, n_jobs = -1)\n",
    "print('Dataset 2 Entropy without pruning & Repeated 10 X 10 folds')\n",
    "print('Accuracy: ',100*np.mean(Acc_n_Std))\n",
    "print('Standard Deviation: ',np.std(Acc_n_Std))"
   ]
  },
  {
   "cell_type": "code",
   "execution_count": 178,
   "id": "3834792d",
   "metadata": {},
   "outputs": [
    {
     "name": "stdout",
     "output_type": "stream",
     "text": [
      "Dataset 2 Entropy with pruning & Repeated 10 X 10 folds\n",
      "Accuracy:  26.078792468417618\n",
      "Standard Deviation:  0.02121339185161093\n"
     ]
    }
   ],
   "source": [
    "Entropy = DecisionTreeClassifier(criterion='entropy', ccp_alpha = 0.015)\n",
    "CV = RepeatedKFold(n_splits = 10, n_repeats = 10, random_state = 1)\n",
    "Acc_n_Std = cross_val_score(Entropy, X, Y, scoring='accuracy', cv=CV, n_jobs = -1)\n",
    "print('Dataset 2 Entropy with pruning & Repeated 10 X 10 folds')\n",
    "print('Accuracy: ',100*np.mean(Acc_n_Std))\n",
    "print('Standard Deviation: ',np.std(Acc_n_Std))"
   ]
  },
  {
   "cell_type": "code",
   "execution_count": 179,
   "id": "0e3c4bb8",
   "metadata": {},
   "outputs": [
    {
     "name": "stdout",
     "output_type": "stream",
     "text": [
      "Dataset 2 Entropy without pruning & Holdout Approach\n",
      "Accuracy :  20.73365231259968\n"
     ]
    }
   ],
   "source": [
    "Entropy = DecisionTreeClassifier(criterion='entropy')\n",
    "X_train, X_test, Y_train, Y_test = train_test_split(X, Y, test_size=0.3, random_state=5)\n",
    "Entropy.fit(X_train, Y_train)\n",
    "predictions = Gini.predict(X_test)\n",
    "print('Dataset 2 Entropy without pruning & Holdout Approach')\n",
    "print (\"Accuracy : \",accuracy_score(Y_test,predictions)*100)"
   ]
  },
  {
   "cell_type": "code",
   "execution_count": 180,
   "id": "167dd4c1",
   "metadata": {},
   "outputs": [
    {
     "name": "stdout",
     "output_type": "stream",
     "text": [
      "Dataset 2 Entropy without pruning & Holdout Approach\n",
      "Accuracy :  20.73365231259968\n"
     ]
    }
   ],
   "source": [
    "Entropy = DecisionTreeClassifier(criterion='entropy', ccp_alpha = 0.015)\n",
    "X_train, X_test, Y_train, Y_test = train_test_split(X, Y, test_size=0.3, random_state=5)\n",
    "Entropy.fit(X_train, Y_train)\n",
    "predictions = Gini.predict(X_test)\n",
    "print('Dataset 2 Entropy without pruning & Holdout Approach')\n",
    "print (\"Accuracy : \",accuracy_score(Y_test,predictions)*100)"
   ]
  },
  {
   "cell_type": "code",
   "execution_count": 181,
   "id": "91890f31",
   "metadata": {},
   "outputs": [
    {
     "data": {
      "text/html": [
       "<div>\n",
       "<style scoped>\n",
       "    .dataframe tbody tr th:only-of-type {\n",
       "        vertical-align: middle;\n",
       "    }\n",
       "\n",
       "    .dataframe tbody tr th {\n",
       "        vertical-align: top;\n",
       "    }\n",
       "\n",
       "    .dataframe thead th {\n",
       "        text-align: right;\n",
       "    }\n",
       "</style>\n",
       "<table border=\"1\" class=\"dataframe\">\n",
       "  <thead>\n",
       "    <tr style=\"text-align: right;\">\n",
       "      <th></th>\n",
       "      <th>Left_Weight</th>\n",
       "      <th>Left_Distance</th>\n",
       "      <th>Right_Weight</th>\n",
       "      <th>Right_Distance</th>\n",
       "      <th>Class_Name</th>\n",
       "    </tr>\n",
       "  </thead>\n",
       "  <tbody>\n",
       "    <tr>\n",
       "      <th>0</th>\n",
       "      <td>1</td>\n",
       "      <td>1</td>\n",
       "      <td>1</td>\n",
       "      <td>1</td>\n",
       "      <td>1</td>\n",
       "    </tr>\n",
       "    <tr>\n",
       "      <th>1</th>\n",
       "      <td>1</td>\n",
       "      <td>1</td>\n",
       "      <td>1</td>\n",
       "      <td>2</td>\n",
       "      <td>0</td>\n",
       "    </tr>\n",
       "    <tr>\n",
       "      <th>2</th>\n",
       "      <td>1</td>\n",
       "      <td>1</td>\n",
       "      <td>1</td>\n",
       "      <td>3</td>\n",
       "      <td>0</td>\n",
       "    </tr>\n",
       "    <tr>\n",
       "      <th>3</th>\n",
       "      <td>1</td>\n",
       "      <td>1</td>\n",
       "      <td>1</td>\n",
       "      <td>4</td>\n",
       "      <td>0</td>\n",
       "    </tr>\n",
       "    <tr>\n",
       "      <th>4</th>\n",
       "      <td>1</td>\n",
       "      <td>1</td>\n",
       "      <td>1</td>\n",
       "      <td>5</td>\n",
       "      <td>0</td>\n",
       "    </tr>\n",
       "    <tr>\n",
       "      <th>...</th>\n",
       "      <td>...</td>\n",
       "      <td>...</td>\n",
       "      <td>...</td>\n",
       "      <td>...</td>\n",
       "      <td>...</td>\n",
       "    </tr>\n",
       "    <tr>\n",
       "      <th>620</th>\n",
       "      <td>5</td>\n",
       "      <td>5</td>\n",
       "      <td>5</td>\n",
       "      <td>1</td>\n",
       "      <td>2</td>\n",
       "    </tr>\n",
       "    <tr>\n",
       "      <th>621</th>\n",
       "      <td>5</td>\n",
       "      <td>5</td>\n",
       "      <td>5</td>\n",
       "      <td>2</td>\n",
       "      <td>2</td>\n",
       "    </tr>\n",
       "    <tr>\n",
       "      <th>622</th>\n",
       "      <td>5</td>\n",
       "      <td>5</td>\n",
       "      <td>5</td>\n",
       "      <td>3</td>\n",
       "      <td>2</td>\n",
       "    </tr>\n",
       "    <tr>\n",
       "      <th>623</th>\n",
       "      <td>5</td>\n",
       "      <td>5</td>\n",
       "      <td>5</td>\n",
       "      <td>4</td>\n",
       "      <td>2</td>\n",
       "    </tr>\n",
       "    <tr>\n",
       "      <th>624</th>\n",
       "      <td>5</td>\n",
       "      <td>5</td>\n",
       "      <td>5</td>\n",
       "      <td>5</td>\n",
       "      <td>1</td>\n",
       "    </tr>\n",
       "  </tbody>\n",
       "</table>\n",
       "<p>625 rows × 5 columns</p>\n",
       "</div>"
      ],
      "text/plain": [
       "     Left_Weight  Left_Distance  Right_Weight   Right_Distance  Class_Name\n",
       "0              1              1             1                1           1\n",
       "1              1              1             1                2           0\n",
       "2              1              1             1                3           0\n",
       "3              1              1             1                4           0\n",
       "4              1              1             1                5           0\n",
       "..           ...            ...           ...              ...         ...\n",
       "620            5              5             5                1           2\n",
       "621            5              5             5                2           2\n",
       "622            5              5             5                3           2\n",
       "623            5              5             5                4           2\n",
       "624            5              5             5                5           1\n",
       "\n",
       "[625 rows x 5 columns]"
      ]
     },
     "execution_count": 181,
     "metadata": {},
     "output_type": "execute_result"
    }
   ],
   "source": [
    "names = [\"Class_Name\", \"Left_Weight\", \"Left_Distance\", \"Right_Weight\",\" Right_Distance\"]\n",
    "dataset1 = pd.read_csv(\"balance-scale.data\", names=names)\n",
    "dataset1[\"Class_Name\"].replace({'B':1, 'R':0, 'L':2}, inplace=True)\n",
    "dataset1 = dataset1[[\"Left_Weight\", \"Left_Distance\", \"Right_Weight\",\" Right_Distance\", \"Class_Name\"]]\n",
    "X = dataset1.values[:,0:4]\n",
    "Y = dataset1.values[:,4]\n",
    "dataset1"
   ]
  },
  {
   "cell_type": "code",
   "execution_count": 182,
   "id": "017e0479",
   "metadata": {},
   "outputs": [
    {
     "name": "stdout",
     "output_type": "stream",
     "text": [
      "Dataset 3 Gini without pruning & Repeated 10 X 10 folds:\n",
      "Accuracy:  77.72811059907835\n",
      "Standard Deviation:  0.05331467080940778\n"
     ]
    }
   ],
   "source": [
    "\n",
    "Gini = DecisionTreeClassifier(criterion='gini')\n",
    "CV = RepeatedKFold(n_splits = 10, n_repeats = 10, random_state = 1)\n",
    "Acc_n_Std = cross_val_score(Gini, X, Y, scoring='accuracy', cv=CV, n_jobs = -1)\n",
    "print(\"Dataset 3 Gini without pruning & Repeated 10 X 10 folds:\")\n",
    "print('Accuracy: ',100*np.mean(Acc_n_Std))\n",
    "print('Standard Deviation: ',np.std(Acc_n_Std))"
   ]
  },
  {
   "cell_type": "code",
   "execution_count": 183,
   "id": "042dd516",
   "metadata": {},
   "outputs": [
    {
     "name": "stdout",
     "output_type": "stream",
     "text": [
      "Dataset 3 Gini with pruning & Repeated 10 X 10 folds:\n",
      "Accuracy:  75.61776753712239\n",
      "Standard Deviation:  0.05380786761942512\n"
     ]
    }
   ],
   "source": [
    "\n",
    "Gini = DecisionTreeClassifier(criterion='gini', ccp_alpha = 0.015)\n",
    "CV = RepeatedKFold(n_splits = 10, n_repeats = 10, random_state = 1)\n",
    "Acc_n_Std = cross_val_score(Gini, X, Y, scoring='accuracy', cv=CV, n_jobs = -1)\n",
    "print(\"Dataset 3 Gini with pruning & Repeated 10 X 10 folds:\")\n",
    "print('Accuracy: ',100*np.mean(Acc_n_Std))\n",
    "print('Standard Deviation: ',np.std(Acc_n_Std))"
   ]
  },
  {
   "cell_type": "code",
   "execution_count": 184,
   "id": "195e9603",
   "metadata": {},
   "outputs": [
    {
     "name": "stdout",
     "output_type": "stream",
     "text": [
      "Dataset 3 Gini without pruning & Holdout Approach\n",
      "Accuracy :  81.38297872340425\n"
     ]
    }
   ],
   "source": [
    "Gini = DecisionTreeClassifier(criterion='gini')\n",
    "X_train, X_test, Y_train, Y_test = train_test_split(X, Y, test_size=0.3, random_state=5)\n",
    "Gini.fit(X_train, Y_train)\n",
    "predictions = Gini.predict(X_test)\n",
    "print('Dataset 3 Gini without pruning & Holdout Approach')\n",
    "print (\"Accuracy : \",accuracy_score(Y_test,predictions)*100)"
   ]
  },
  {
   "cell_type": "code",
   "execution_count": 185,
   "id": "690e9ae8",
   "metadata": {},
   "outputs": [
    {
     "name": "stdout",
     "output_type": "stream",
     "text": [
      "Dataset 3 Gini with pruning & Holdout Approach\n",
      "Accuracy :  76.06382978723404\n"
     ]
    }
   ],
   "source": [
    "Gini = DecisionTreeClassifier(criterion='gini', ccp_alpha = 0.015)\n",
    "X_train, X_test, Y_train, Y_test = train_test_split(X, Y, test_size=0.3, random_state=5)\n",
    "Gini.fit(X_train, Y_train)\n",
    "predictions = Gini.predict(X_test)\n",
    "print('Dataset 3 Gini with pruning & Holdout Approach')\n",
    "print (\"Accuracy : \",accuracy_score(Y_test,predictions)*100)"
   ]
  },
  {
   "cell_type": "code",
   "execution_count": 186,
   "id": "82234058",
   "metadata": {},
   "outputs": [
    {
     "name": "stdout",
     "output_type": "stream",
     "text": [
      "Dataset 3 Entropy without pruning & Repeated 10 X 10 folds\n",
      "Accuracy:  77.26164874551971\n",
      "Standard Deviation:  0.05118417103857723\n"
     ]
    }
   ],
   "source": [
    "Entropy = DecisionTreeClassifier(criterion='entropy')\n",
    "CV = RepeatedKFold(n_splits = 10, n_repeats = 10, random_state = 1)\n",
    "Acc_n_Std = cross_val_score(Entropy, X, Y, scoring='accuracy', cv=CV, n_jobs = -1)\n",
    "print('Dataset 3 Entropy without pruning & Repeated 10 X 10 folds')\n",
    "print('Accuracy: ',100*np.mean(Acc_n_Std))\n",
    "print('Standard Deviation: ',np.std(Acc_n_Std))"
   ]
  },
  {
   "cell_type": "code",
   "execution_count": 187,
   "id": "531cc619",
   "metadata": {},
   "outputs": [
    {
     "name": "stdout",
     "output_type": "stream",
     "text": [
      "Dataset 3 Entropy with pruning & Repeated 10 X 10 folds\n",
      "Accuracy:  72.81643625192011\n",
      "Standard Deviation:  0.04658670012710971\n"
     ]
    }
   ],
   "source": [
    "Entropy = DecisionTreeClassifier(criterion='entropy', ccp_alpha = 0.015)\n",
    "CV = RepeatedKFold(n_splits = 10, n_repeats = 10, random_state = 1)\n",
    "Acc_n_Std = cross_val_score(Entropy, X, Y, scoring='accuracy', cv=CV, n_jobs = -1)\n",
    "print('Dataset 3 Entropy with pruning & Repeated 10 X 10 folds')\n",
    "print('Accuracy: ',100*np.mean(Acc_n_Std))\n",
    "print('Standard Deviation: ',np.std(Acc_n_Std))"
   ]
  },
  {
   "cell_type": "code",
   "execution_count": 188,
   "id": "46531cfa",
   "metadata": {},
   "outputs": [
    {
     "name": "stdout",
     "output_type": "stream",
     "text": [
      "Dataset 3 Entropy without pruning & Holdout Approach\n",
      "Accuracy :  76.06382978723404\n"
     ]
    }
   ],
   "source": [
    "Entropy = DecisionTreeClassifier(criterion='entropy', ccp_alpha = 0.015)\n",
    "X_train, X_test, Y_train, Y_test = train_test_split(X, Y, test_size=0.3, random_state=5)\n",
    "Entropy.fit(X_train, Y_train)\n",
    "predictions = Gini.predict(X_test)\n",
    "print('Dataset 3 Entropy without pruning & Holdout Approach')\n",
    "print (\"Accuracy : \",accuracy_score(Y_test,predictions)*100)"
   ]
  },
  {
   "cell_type": "code",
   "execution_count": 189,
   "id": "8913328c",
   "metadata": {},
   "outputs": [
    {
     "name": "stdout",
     "output_type": "stream",
     "text": [
      "Dataset 3 Entropy with pruning & Holdout Approach\n",
      "Accuracy :  76.06382978723404\n"
     ]
    }
   ],
   "source": [
    "Entropy = DecisionTreeClassifier(criterion='entropy', ccp_alpha = 0.015)\n",
    "X_train, X_test, Y_train, Y_test = train_test_split(X, Y, test_size=0.3, random_state=5)\n",
    "Entropy.fit(X_train, Y_train)\n",
    "predictions = Gini.predict(X_test)\n",
    "print('Dataset 3 Entropy with pruning & Holdout Approach')\n",
    "print (\"Accuracy : \",accuracy_score(Y_test,predictions)*100)"
   ]
  },
  {
   "cell_type": "code",
   "execution_count": null,
   "id": "75e690dd",
   "metadata": {},
   "outputs": [],
   "source": []
  }
 ],
 "metadata": {
  "kernelspec": {
   "display_name": "Python 3 (ipykernel)",
   "language": "python",
   "name": "python3"
  },
  "language_info": {
   "codemirror_mode": {
    "name": "ipython",
    "version": 3
   },
   "file_extension": ".py",
   "mimetype": "text/x-python",
   "name": "python",
   "nbconvert_exporter": "python",
   "pygments_lexer": "ipython3",
   "version": "3.9.7"
  }
 },
 "nbformat": 4,
 "nbformat_minor": 5
}
