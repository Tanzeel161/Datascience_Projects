{
 "cells": [
  {
   "cell_type": "code",
   "execution_count": 1,
   "id": "b517ead7",
   "metadata": {},
   "outputs": [],
   "source": [
    "import pandas\n",
    "from sklearn.model_selection import train_test_split\n",
    "from sklearn.metrics import classification_report\n",
    "from sklearn.metrics import confusion_matrix\n",
    "from sklearn.metrics import accuracy_score\n",
    "from sklearn.neighbors import KNeighborsClassifier"
   ]
  },
  {
   "cell_type": "code",
   "execution_count": 2,
   "id": "47da9fcf",
   "metadata": {},
   "outputs": [],
   "source": [
    "names = ['sepal-length', 'sepal-width', 'petal-length', 'petal-width', 'class']\n",
    "dataset = pandas.read_csv(\"iris.csv\", names=names)"
   ]
  },
  {
   "cell_type": "code",
   "execution_count": 3,
   "id": "0be579c3",
   "metadata": {},
   "outputs": [
    {
     "name": "stdout",
     "output_type": "stream",
     "text": [
      "(151, 5)\n"
     ]
    }
   ],
   "source": [
    " \n",
    "print(dataset.shape)"
   ]
  },
  {
   "cell_type": "code",
   "execution_count": 4,
   "id": "0a615d1d",
   "metadata": {},
   "outputs": [
    {
     "name": "stdout",
     "output_type": "stream",
     "text": [
      "class\n",
      "Iris-setosa        50\n",
      "Iris-versicolor    50\n",
      "Iris-virginica     50\n",
      "Species             1\n",
      "dtype: int64\n"
     ]
    }
   ],
   "source": [
    "\n",
    "print(dataset.groupby('class').size())"
   ]
  },
  {
   "cell_type": "code",
   "execution_count": 5,
   "id": "1f17ed63",
   "metadata": {},
   "outputs": [],
   "source": [
    "dataset.drop([0],axis=0,inplace=True)"
   ]
  },
  {
   "cell_type": "code",
   "execution_count": 6,
   "id": "39cde2d6",
   "metadata": {},
   "outputs": [],
   "source": [
    "\n",
    "array = dataset.values\n",
    "X = array[:,0:4]\n",
    "Y = array[:,4]\n",
    "t_size = 0.20\n",
    "seed = 7\n",
    "X_train, X_test, Y_train, Y_test = train_test_split(X, Y, test_size=t_size,\n",
    "random_state=seed)"
   ]
  },
  {
   "cell_type": "code",
   "execution_count": 7,
   "id": "ea95a303",
   "metadata": {},
   "outputs": [
    {
     "name": "stdout",
     "output_type": "stream",
     "text": [
      "0.9\n",
      "[[ 7  0  0]\n",
      " [ 0 11  1]\n",
      " [ 0  2  9]]\n",
      "                 precision    recall  f1-score   support\n",
      "\n",
      "    Iris-setosa       1.00      1.00      1.00         7\n",
      "Iris-versicolor       0.85      0.92      0.88        12\n",
      " Iris-virginica       0.90      0.82      0.86        11\n",
      "\n",
      "       accuracy                           0.90        30\n",
      "      macro avg       0.92      0.91      0.91        30\n",
      "   weighted avg       0.90      0.90      0.90        30\n",
      "\n"
     ]
    }
   ],
   "source": [
    "knn = KNeighborsClassifier()\n",
    "knn.fit(X_train, Y_train)\n",
    "predictions = knn.predict(X_test)\n",
    "print(accuracy_score(Y_test, predictions))\n",
    "print(confusion_matrix(Y_test, predictions))\n",
    "print(classification_report(Y_test, predictions))"
   ]
  },
  {
   "cell_type": "code",
   "execution_count": 8,
   "id": "b85df602",
   "metadata": {},
   "outputs": [
    {
     "name": "stdout",
     "output_type": "stream",
     "text": [
      "k = 1, Accuracy= 0.9\n",
      "k = 2, Accuracy= 0.9333333333333333\n",
      "k = 3, Accuracy= 0.9\n",
      "k = 4, Accuracy= 0.9333333333333333\n",
      "k = 5, Accuracy= 0.9\n",
      "k = 6, Accuracy= 0.8666666666666667\n",
      "k = 7, Accuracy= 0.8666666666666667\n",
      "k = 8, Accuracy= 0.9\n",
      "k = 9, Accuracy= 0.9\n"
     ]
    }
   ],
   "source": [
    "seed = 7\n",
    "X_train, X_test, Y_train, Y_test = train_test_split(X, Y, test_size=t_size,\n",
    "random_state=seed)\n",
    "for i in range(1,10):\n",
    "  knn = KNeighborsClassifier(i)\n",
    "  knn.fit(X_train, Y_train)\n",
    "  predictions = knn.predict(X_test)\n",
    "  print(f'k = {i}, Accuracy= ', end='')\n",
    "  print(accuracy_score(Y_test, predictions))"
   ]
  },
  {
   "cell_type": "code",
   "execution_count": 9,
   "id": "673c80b1",
   "metadata": {},
   "outputs": [
    {
     "name": "stdout",
     "output_type": "stream",
     "text": [
      "seed = 1, Accuracy= 1.0\n",
      "seed = 2, Accuracy= 1.0\n",
      "seed = 3, Accuracy= 0.9666666666666667\n",
      "seed = 4, Accuracy= 0.9666666666666667\n",
      "seed = 5, Accuracy= 0.9333333333333333\n",
      "seed = 6, Accuracy= 0.9666666666666667\n",
      "seed = 7, Accuracy= 0.9\n",
      "seed = 8, Accuracy= 0.9\n",
      "seed = 9, Accuracy= 1.0\n",
      "seed = 10, Accuracy= 0.9666666666666667\n"
     ]
    }
   ],
   "source": [
    "for i in range(1,11):\n",
    "  X_train, X_test, Y_train, Y_test = train_test_split(X, Y, test_size=t_size,\n",
    "  random_state=i)\n",
    "  knn = KNeighborsClassifier()\n",
    "  knn.fit(X_train, Y_train)\n",
    "  predictions = knn.predict(X_test)\n",
    "  print(f'seed = {i}, Accuracy= ', end='')\n",
    "  print(accuracy_score(Y_test, predictions))"
   ]
  },
  {
   "cell_type": "code",
   "execution_count": 10,
   "id": "1d3891f1",
   "metadata": {},
   "outputs": [
    {
     "name": "stdout",
     "output_type": "stream",
     "text": [
      "                  date  Temperature  Humidity  Light     CO2  HumidityRatio  \\\n",
      "1  2015-02-04 17:51:00        23.18   27.2720  426.0  721.25       0.004793   \n",
      "2  2015-02-04 17:51:59        23.15   27.2675  429.5  714.00       0.004783   \n",
      "3  2015-02-04 17:53:00        23.15   27.2450  426.0  713.50       0.004779   \n",
      "4  2015-02-04 17:54:00        23.15   27.2000  426.0  708.25       0.004772   \n",
      "5  2015-02-04 17:55:00        23.10   27.2000  426.0  704.50       0.004757   \n",
      "\n",
      "   Occupancy  \n",
      "1          1  \n",
      "2          1  \n",
      "3          1  \n",
      "4          1  \n",
      "5          1  \n",
      "                  date  Temperature   Humidity       Light          CO2  \\\n",
      "1  2015-02-11 14:48:00      21.7600  31.133333  437.333333  1029.666667   \n",
      "2  2015-02-11 14:49:00      21.7900  31.000000  437.333333  1000.000000   \n",
      "3  2015-02-11 14:50:00      21.7675  31.122500  434.000000  1003.750000   \n",
      "4  2015-02-11 14:51:00      21.7675  31.122500  439.000000  1009.500000   \n",
      "5  2015-02-11 14:51:59      21.7900  31.133333  437.333333  1005.666667   \n",
      "\n",
      "   HumidityRatio  Occupancy  \n",
      "1       0.005021          1  \n",
      "2       0.005009          1  \n",
      "3       0.005022          1  \n",
      "4       0.005022          1  \n",
      "5       0.005030          1  \n",
      "                  date  Temperature  Humidity  Light     CO2  HumidityRatio  \\\n",
      "1  2015-02-04 17:51:00        23.18   27.2720  426.0  721.25       0.004793   \n",
      "2  2015-02-04 17:51:59        23.15   27.2675  429.5  714.00       0.004783   \n",
      "3  2015-02-04 17:53:00        23.15   27.2450  426.0  713.50       0.004779   \n",
      "4  2015-02-04 17:54:00        23.15   27.2000  426.0  708.25       0.004772   \n",
      "5  2015-02-04 17:55:00        23.10   27.2000  426.0  704.50       0.004757   \n",
      "\n",
      "   Occupancy  \n",
      "1          1  \n",
      "2          1  \n",
      "3          1  \n",
      "4          1  \n",
      "5          1  \n"
     ]
    }
   ],
   "source": [
    "test1 = pandas.read_csv(\"datatraining.txt\")\n",
    "test2 = pandas.read_csv(\"datatest2.txt\")\n",
    "test3 = pandas.read_csv(\"datatraining.txt\")\n",
    "print(test1.head())\n",
    "print(test2.head())\n",
    "print(test3.head())"
   ]
  },
  {
   "cell_type": "code",
   "execution_count": 11,
   "id": "1d06637f",
   "metadata": {},
   "outputs": [
    {
     "name": "stdout",
     "output_type": "stream",
     "text": [
      "(8143, 7)\n",
      "(9752, 7)\n",
      "(8143, 7)\n"
     ]
    }
   ],
   "source": [
    "print(test1.shape)\n",
    "print(test2.shape)\n",
    "print(test3.shape)"
   ]
  },
  {
   "cell_type": "code",
   "execution_count": 12,
   "id": "7af5bb90",
   "metadata": {},
   "outputs": [],
   "source": [
    "test3=test3.drop([\"date\"],axis=1)\n",
    "test1=test1.drop([\"date\"],axis=1)\n"
   ]
  },
  {
   "cell_type": "code",
   "execution_count": 13,
   "id": "6861693b",
   "metadata": {},
   "outputs": [],
   "source": [
    "from datetime import datetime;\n",
    "array = test3.values\n",
    "X_test3 = array[:,0:5]\n",
    "Y_test3 = array[:,5]\n",
    "array = test1.values\n",
    "X_test1 = array[:,0:5]\n",
    "Y_test1 = array[:,5]"
   ]
  },
  {
   "cell_type": "code",
   "execution_count": 14,
   "id": "2861ffce",
   "metadata": {},
   "outputs": [
    {
     "name": "stdout",
     "output_type": "stream",
     "text": [
      "0.992140488763355\n",
      "[[6361   53]\n",
      " [  11 1718]]\n",
      "              precision    recall  f1-score   support\n",
      "\n",
      "         0.0       1.00      0.99      0.99      6414\n",
      "         1.0       0.97      0.99      0.98      1729\n",
      "\n",
      "    accuracy                           0.99      8143\n",
      "   macro avg       0.98      0.99      0.99      8143\n",
      "weighted avg       0.99      0.99      0.99      8143\n",
      "\n"
     ]
    }
   ],
   "source": [
    "knn = KNeighborsClassifier()\n",
    "knn.fit(X_test3,Y_test3)\n",
    "predictions = knn.predict(X_test1)\n",
    "print(accuracy_score(Y_test1, predictions))\n",
    "print(confusion_matrix(Y_test1, predictions))\n",
    "print(classification_report(Y_test1, predictions))"
   ]
  },
  {
   "cell_type": "code",
   "execution_count": 15,
   "id": "dda8357e",
   "metadata": {},
   "outputs": [
    {
     "name": "stdout",
     "output_type": "stream",
     "text": [
      "k =  1 ,  Accuracy =  1.0\n",
      "k =  2 ,  Accuracy =  0.9952106103401694\n",
      "k =  3 ,  Accuracy =  0.9948421957509518\n",
      "k =  4 ,  Accuracy =  0.993614147120226\n",
      "k =  5 ,  Accuracy =  0.992140488763355\n",
      "k =  6 ,  Accuracy =  0.992140488763355\n",
      "k =  7 ,  Accuracy =  0.9906668304064841\n",
      "k =  8 ,  Accuracy =  0.9902984158172664\n",
      "k =  9 ,  Accuracy =  0.9896843915019035\n",
      "k =  10 ,  Accuracy =  0.9899300012280486\n"
     ]
    }
   ],
   "source": [
    "for i in range (1,11) :\n",
    "    knn = KNeighborsClassifier(n_neighbors = i)\n",
    "    knn.fit(X_test3, Y_test3)\n",
    "    predictions = knn.predict(X_test1)\n",
    "    print(\"k = \",i,\", \",\"Accuracy = \",accuracy_score(Y_test1, predictions))"
   ]
  },
  {
   "cell_type": "code",
   "execution_count": 16,
   "id": "bf1dac3e",
   "metadata": {},
   "outputs": [],
   "source": [
    "import numpy as np\n",
    "A = dataset[\"class\"]\n",
    "B = dataset.drop([\"class\"],axis=1);\n",
    "B = B[1:len(dataset)];\n",
    "A = A[1:len(dataset)]"
   ]
  },
  {
   "cell_type": "code",
   "execution_count": 17,
   "id": "c3bbb168",
   "metadata": {},
   "outputs": [],
   "source": [
    "class KNN:\n",
    "  def __init__(self , k=5):\n",
    "    self.k = k\n",
    "    pass;\n",
    "  def DistCal(self,x ,y):\n",
    "    sum = 0.0;\n",
    "    for i in range(0,len(x)):\n",
    "      try:\n",
    "        sum += (pow((x[i] - y[i]),2)) / (x[i] + y[i]) \n",
    "      except ZeroDivisionError:\n",
    "        sum += 0;\n",
    "    return sum;\n",
    "  def get_adjacent(self,B,point):\n",
    "    dist = [];\n",
    "    indexes = [];\n",
    "    for i in range(0,len(B)):\n",
    "      sl , sw , pl , pw = B.iloc[i,:]\n",
    "      result = self.DistCal(  point,[float(sl),float(sw),float(pl),float(pw)]  );\n",
    "      indexes.append(i);\n",
    "      \n",
    "      dist.append(result);\n",
    "                  \n",
    "    return sorted(zip( dist,indexes))[:self.k]\n",
    "  def find_hi(self,mapping):\n",
    "    max , max_index = -999 , -1;\n",
    "    for k in mapping.keys():\n",
    "      if(mapping[k] > max):\n",
    "        max = mapping[k];\n",
    "        max_index =  k;\n",
    "    return max_index;\n",
    "  def predict(self,adjacent , y):\n",
    "    results = [];\n",
    "    dict1 = {};\n",
    "    for score , index in adjacent:\n",
    "      results.append(y.iloc[index]);\n",
    "      try:\n",
    "\n",
    "        dict1[y.iloc[index] ] +=1;\n",
    "      except:\n",
    "        dict1[y.iloc[index]] = 1;\n",
    "    if(len(np.unique(adjacent)) != len(adjacent)):\n",
    "      \n",
    "      hi = self.find_hi(dict1);\n",
    "      return hi;\n",
    "\n",
    "    return y.iloc[adjacent[0][1]];"
   ]
  },
  {
   "cell_type": "code",
   "execution_count": 18,
   "id": "3282e12a",
   "metadata": {},
   "outputs": [
    {
     "name": "stdout",
     "output_type": "stream",
     "text": [
      "0.9463087248322147\n"
     ]
    }
   ],
   "source": [
    "def acc_score(actual , pred):\n",
    "  correct = 0;\n",
    "  for i in range(0 , len(pred)):\n",
    "    if(actual[i] == pred[i]):\n",
    "      correct +=1;\n",
    "  return correct/len(actual);\n",
    "knn = KNN();\n",
    "outputs = [];\n",
    "for i in range(1,len(B)):\n",
    "  sl , sw , pl ,pw = B.iloc[i , :];\n",
    "  prediction = knn.get_adjacent(B , [float(sl) ,float(sw) , float(pl) ,float(pw)]);\n",
    "  x =knn.predict(prediction , A);\n",
    "  outputs.append(x);\n",
    "print(acc_score(A.to_list() , outputs))"
   ]
  },
  {
   "cell_type": "code",
   "execution_count": null,
   "id": "7901ed77",
   "metadata": {},
   "outputs": [],
   "source": []
  },
  {
   "cell_type": "code",
   "execution_count": null,
   "id": "ffb4bc91",
   "metadata": {},
   "outputs": [],
   "source": []
  },
  {
   "cell_type": "code",
   "execution_count": null,
   "id": "bec41bac",
   "metadata": {},
   "outputs": [],
   "source": []
  }
 ],
 "metadata": {
  "kernelspec": {
   "display_name": "Python 3 (ipykernel)",
   "language": "python",
   "name": "python3"
  },
  "language_info": {
   "codemirror_mode": {
    "name": "ipython",
    "version": 3
   },
   "file_extension": ".py",
   "mimetype": "text/x-python",
   "name": "python",
   "nbconvert_exporter": "python",
   "pygments_lexer": "ipython3",
   "version": "3.9.7"
  }
 },
 "nbformat": 4,
 "nbformat_minor": 5
}
